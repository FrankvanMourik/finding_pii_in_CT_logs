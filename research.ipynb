{
 "cells": [
  {
   "cell_type": "markdown",
   "metadata": {},
   "source": [
    "# Research Project - Jupyter Notebook\n",
    "Author: Frank van Mourik <f.g.vanmourik@student.utwente.nl><br/>\n",
    "\n",
    "## Explanation\n",
    "This Notebook includes the queries executed on a part of the CT log dataset stored on the UT clusters. These queries lay the basis for the Bachelor Research Project called \"Finding personally identifiable information leaked via publicly accessible CT logs\""
   ]
  },
  {
   "cell_type": "markdown",
   "metadata": {},
   "source": [
    "## Imports & startup"
   ]
  },
  {
   "cell_type": "markdown",
   "metadata": {},
   "source": [
    "### Imports"
   ]
  },
  {
   "cell_type": "code",
   "execution_count": 1,
   "metadata": {},
   "outputs": [],
   "source": [
    "import os\n",
    "import time\n",
    "from datetime import datetime, timedelta, date\n",
    "import pprint\n",
    "\n",
    "import collections\n",
    "import numpy as np\n",
    "import pandas as pd\n",
    "import subprocess\n",
    "\n",
    "import pyspark\n",
    "import pyspark.sql.functions as psf\n",
    "from pyspark.sql.types import *\n",
    "\n",
    "# Find Spark\n",
    "import findspark\n",
    "findspark.init()"
   ]
  },
  {
   "cell_type": "markdown",
   "metadata": {},
   "source": [
    "### Create Spark Configuration"
   ]
  },
  {
   "cell_type": "code",
   "execution_count": 2,
   "metadata": {},
   "outputs": [],
   "source": [
    "# Create a SparkConf\n",
    "\n",
    "# This name will be visible on the Hadoop Cluster webpage\n",
    "APP_NAME = \"pyspark-CT-analysis-research-project\"\n",
    "# On University cluster: do not increase this number above 400. Default: 10. On large dataset (1 billion records): 300 executors\n",
    "MAX_NR_OF_EXECUTORS = 300\n",
    "\n",
    "# Set configuration for cluster executions. Variables can be altered to acquire more and less processing power and executors.\n",
    "spark_conf = pyspark.SparkConf().setAppName(APP_NAME).setMaster(\"yarn\").set(\n",
    "    \"spark.submit.deployMode\", \"client\"\n",
    ").set(\"spark.sql.parquet.binaryAsString\", \"true\"\n",
    ").set(\"spark.dynamicAllocation.maxExecutors\", str(MAX_NR_OF_EXECUTORS)\n",
    ")"
   ]
  },
  {
   "cell_type": "markdown",
   "metadata": {},
   "source": [
    "#### Start SparkContext\n",
    "1. This may take a minute to complete\n",
    "2. You should not (and cannot) start two Spark contexts. If you accidentally run this cell twice or get stuck somehow, restart your Python kernel from the menu above.\n",
    "3. Please **stop your Spark context** when idling for extended periods of time"
   ]
  },
  {
   "cell_type": "code",
   "execution_count": 3,
   "metadata": {},
   "outputs": [
    {
     "name": "stdout",
     "output_type": "stream",
     "text": [
      "[2021-06-24 17:03:39] Starting Spark context.\n",
      "SparkContext is running on version  2.4.7\n"
     ]
    }
   ],
   "source": [
    "print(\"[{}] Starting Spark context.\".format(datetime.now().replace(microsecond=0)))\n",
    "\n",
    "# SparkContext\n",
    "sc = pyspark.SparkContext(conf=spark_conf)\n",
    "\n",
    "# SQLContext\n",
    "sqlc = pyspark.SQLContext(sc)\n",
    "print(\"SparkContext is running on version \",sc.version)"
   ]
  },
  {
   "cell_type": "code",
   "execution_count": 4,
   "metadata": {},
   "outputs": [
    {
     "name": "stdout",
     "output_type": "stream",
     "text": [
      "Number of certificates in DF:  1077200000\n",
      "The data schema looks like:\n",
      "root\n",
      " |-- cert_index: integer (nullable = true)\n",
      " |-- cert_link: string (nullable = true)\n",
      " |-- chain: array (nullable = true)\n",
      " |    |-- element: struct (containsNull = true)\n",
      " |    |    |-- as_der: string (nullable = true)\n",
      " |    |    |-- extensions: struct (nullable = true)\n",
      " |    |    |    |-- authorityInfoAccess: string (nullable = true)\n",
      " |    |    |    |-- authorityKeyIdentifier: string (nullable = true)\n",
      " |    |    |    |-- basicConstraints: string (nullable = true)\n",
      " |    |    |    |-- certificatePolicies: string (nullable = true)\n",
      " |    |    |    |-- crlDistributionPoints: string (nullable = true)\n",
      " |    |    |    |-- keyUsage: string (nullable = true)\n",
      " |    |    |    |-- subjectKeyIdentifier: string (nullable = true)\n",
      " |    |    |-- fingerprint: string (nullable = true)\n",
      " |    |    |-- not_after: float (nullable = true)\n",
      " |    |    |-- not_before: float (nullable = true)\n",
      " |    |    |-- serial_number: string (nullable = true)\n",
      " |    |    |-- subject: struct (nullable = true)\n",
      " |    |    |    |-- C: string (nullable = true)\n",
      " |    |    |    |-- CN: string (nullable = true)\n",
      " |    |    |    |-- L: string (nullable = true)\n",
      " |    |    |    |-- O: string (nullable = true)\n",
      " |    |    |    |-- OU: string (nullable = true)\n",
      " |    |    |    |-- ST: string (nullable = true)\n",
      " |    |    |    |-- aggregated: string (nullable = true)\n",
      " |-- leaf_cert: struct (nullable = true)\n",
      " |    |-- as_der: string (nullable = true)\n",
      " |    |-- extensions: struct (nullable = true)\n",
      " |    |    |-- authorityInfoAccess: string (nullable = true)\n",
      " |    |    |-- authorityKeyIdentifier: string (nullable = true)\n",
      " |    |    |-- basicConstraints: string (nullable = true)\n",
      " |    |    |-- certificatePolicies: string (nullable = true)\n",
      " |    |    |-- crlDistributionPoints: string (nullable = true)\n",
      " |    |    |-- keyUsage: string (nullable = true)\n",
      " |    |    |-- subjectKeyIdentifier: string (nullable = true)\n",
      " |    |-- fingerprint: string (nullable = true)\n",
      " |    |-- not_after: float (nullable = true)\n",
      " |    |-- not_before: float (nullable = true)\n",
      " |    |-- serial_number: string (nullable = true)\n",
      " |    |-- subject: struct (nullable = true)\n",
      " |    |    |-- C: string (nullable = true)\n",
      " |    |    |-- CN: string (nullable = true)\n",
      " |    |    |-- L: string (nullable = true)\n",
      " |    |    |-- O: string (nullable = true)\n",
      " |    |    |-- OU: string (nullable = true)\n",
      " |    |    |-- ST: string (nullable = true)\n",
      " |    |    |-- aggregated: string (nullable = true)\n",
      " |    |-- issuer: struct (nullable = true)\n",
      " |    |    |-- C: string (nullable = true)\n",
      " |    |    |-- CN: string (nullable = true)\n",
      " |    |    |-- L: string (nullable = true)\n",
      " |    |    |-- O: string (nullable = true)\n",
      " |    |    |-- OU: string (nullable = true)\n",
      " |    |    |-- ST: string (nullable = true)\n",
      " |-- seen: float (nullable = true)\n",
      " |-- update_type: string (nullable = true)\n",
      " |-- type: string (nullable = true)\n",
      " |-- name: string (nullable = true)\n",
      " |-- all_domains: array (nullable = true)\n",
      " |    |-- element: string (containsNull = true)\n",
      " |-- batch-group: integer (nullable = true)\n",
      "\n"
     ]
    }
   ],
   "source": [
    "# The CT data base path on the UT Hadoop cluster\n",
    "CT_DATA_PATH = \"/user/jonkerm/data/ct-logs\"\n",
    "LOG = \"Google-Pilot\"\n",
    "# We take number_of_groups batches from the Google Pilot log\n",
    "number_of_groups = 108 # Do not increase above 108 for Google Pilot!\n",
    "files = [os.path.join(CT_DATA_PATH, \"name=\"+LOG, \"batch-group=\"+str(x)) for x in range(number_of_groups)]\n",
    "# print(files)\n",
    "ct_raw_df = sqlc.read.option(\"basePath\", CT_DATA_PATH).parquet(*files)\n",
    "\n",
    "NR_RECORDS = ct_raw_df.count()\n",
    "print(\"Number of certificates in DF: \", NR_RECORDS)\n",
    "print(\"The data schema looks like:\")\n",
    "ct_raw_df.printSchema()"
   ]
  },
  {
   "cell_type": "markdown",
   "metadata": {},
   "source": [
    "## Filter the DF to only include unique Dutch domains"
   ]
  },
  {
   "cell_type": "code",
   "execution_count": 5,
   "metadata": {},
   "outputs": [
    {
     "name": "stdout",
     "output_type": "stream",
     "text": [
      "The total number of rows is:  6404729\n"
     ]
    }
   ],
   "source": [
    "df_dutch_domains = ct_raw_df.select(\n",
    "    psf.explode('all_domains').alias(\"domain\"),\n",
    "    psf.col(\"leaf_cert.not_before\").alias(\"date\")\n",
    ").filter(\n",
    "    psf.col(\"domain\").contains('.nl')\n",
    ").select(\n",
    "    psf.lower(psf.col(\"domain\")).alias(\"domain\"),\n",
    "    psf.from_unixtime(psf.col(\"date\"), \"yyyy-MM-dd hh:mm\").alias(\"date\")\n",
    ").groupby(\n",
    "    psf.col(\"domain\")\n",
    ").agg(\n",
    "    psf.min(psf.col(\"date\")).alias(\"date\")\n",
    ")\n",
    "# print(\"Print schema below:\")\n",
    "# filtered_df.printSchema()\n",
    "# print(\"Size of df below:\")\n",
    "# df_dutch_domains.show(10,False)\n",
    "print(\"The total number of rows is: \",df_dutch_domains.count())"
   ]
  },
  {
   "cell_type": "code",
   "execution_count": 37,
   "metadata": {},
   "outputs": [],
   "source": [
    "# # Possibility to save intermediate results\n",
    "# timestamp_format = datetime.now().strftime(\"%Y-%m-%d_%H-%M-%S\")\n",
    "# df_dutch_domains.toPandas().to_csv(\"results/intermediate/{}_{}m-records-all-dutch-domains.csv\".format(timestamp_format, str(NR_RECORDS//1000000)))"
   ]
  },
  {
   "cell_type": "markdown",
   "metadata": {},
   "source": [
    "## Calculate total number of domains in certificates"
   ]
  },
  {
   "cell_type": "code",
   "execution_count": 8,
   "metadata": {},
   "outputs": [
    {
     "name": "stdout",
     "output_type": "stream",
     "text": [
      "The total number of unique certificates are:  578961023\n"
     ]
    }
   ],
   "source": [
    "## HEAVY OPERATION - only use if interested in total number of domains in all certificates\n",
    "# total_domains = ct_raw_df.select(\n",
    "#     psf.explode('all_domains').alias(\"domain\")\n",
    "# )\n",
    "# print(\"The total number of certificates are: \",total_domains.count())\n",
    "\n",
    "# total_unique_domains = total_domains.select(\n",
    "#     psf.col(\"domain\")\n",
    "# ).groupby(\n",
    "#     psf.col(\"domain\")\n",
    "# ).count()\n",
    "# print(\"The total number of domains in the certificates is: \",total_unique_domains.count())\n"
   ]
  },
  {
   "cell_type": "markdown",
   "metadata": {},
   "source": [
    "## Import first names and last names data\n",
    "- Load the top-100 most-common used last names in the Netherlands, put them to lower-case, and create a string as input for the rlike() method\n",
    "- Load the top-100 most-common used first names per sex per decade in the Netherlands from 1960-2010, take all unique values, put them to lower-case, and create a string as input for the rlike() method"
   ]
  },
  {
   "cell_type": "code",
   "execution_count": 6,
   "metadata": {},
   "outputs": [
    {
     "name": "stdout",
     "output_type": "stream",
     "text": [
      "The total number of last names:  102\n",
      "First 100 characters of last names string:  jong|jansen|vries|berg|dijk|bakker|janssen|visser|smit|meijer|meyer|boer|mulder|groot|bos|vos|peters\n",
      "The total number of unique first names:  530\n",
      "First 100 characters of first names string:  maria|johanna|anna|elisabeth|cornelia|wilhelmina|catharina|yvonne|petronella|adriana|hendrika|margar\n"
     ]
    }
   ],
   "source": [
    "last_names = [x.lower() for x in pd.read_csv(\"data/last_names/last_names.csv\", names=[\"lastNames\"]).lastNames.to_list()]\n",
    "print(\"The total number of last names: \",len(last_names))\n",
    "last_names_string = '|'.join(last_names)\n",
    "print(\"First 100 characters of last names string: \",last_names_string[0:100])\n",
    "\n",
    "first_names = sqlc.read.option(\"basePath\", \"research_project/data/first_names/\").csv(\"research_project/data/first_names/\").select(psf.col('_c0').alias(\"firstNames\"), 'sex', 'year')\n",
    "# first_names.toPandas().to_csv(\"results/all_first_names.csv\")\n",
    "unique_first_names = first_names.toPandas()['firstNames'].unique()\n",
    "print(\"The total number of unique first names: \",len(unique_first_names))\n",
    "first_names_string = '|'.join([x.lower() for x in unique_first_names])\n",
    "print(\"First 100 characters of first names string: \",first_names_string[0:100])"
   ]
  },
  {
   "cell_type": "markdown",
   "metadata": {},
   "source": [
    "## Filter domains to include both a common first and a common last name"
   ]
  },
  {
   "cell_type": "code",
   "execution_count": 7,
   "metadata": {},
   "outputs": [],
   "source": [
    "df_dutch_domains_first_and_last_names = df_dutch_domains.filter(psf.col(\"domain\").rlike(last_names_string)).filter(psf.col(\"domain\").rlike(first_names_string))\n",
    "df_dutch_domains_first_and_last_names.show(10, False)\n",
    "print(\"The number of domains including a first and last name: \", df_dutch_domains_first_and_last_names.count())"
   ]
  },
  {
   "cell_type": "code",
   "execution_count": 63,
   "metadata": {},
   "outputs": [],
   "source": [
    "agg_per_month = df_dutch_domains_first_and_last_names.withColumn(\"year\", psf.year(psf.col(\"date\"))).withColumn(\"month\", psf.month(psf.col(\"date\"))).select(\n",
    "    psf.col(\"year\"),\n",
    "    psf.col(\"month\"),\n",
    "    psf.col(\"domain\")\n",
    ").groupBy(\n",
    "    [psf.col(\"year\"),psf.col(\"month\")]\n",
    ").count().repartition(1).orderBy(psf.col(\"year\"),psf.col(\"month\"))\n",
    "# agg_per_month.show()\n",
    "agg_per_month.toPandas().to_csv(\"results/name={}/dutch_domain_with_pii_agg_per_month.csv\".format(LOG))"
   ]
  },
  {
   "cell_type": "code",
   "execution_count": 62,
   "metadata": {},
   "outputs": [
    {
     "name": "stdout",
     "output_type": "stream",
     "text": [
      "153\n"
     ]
    }
   ],
   "source": [
    "print(agg_per_month.count())\n",
    "# agg_per_month.toPandas().to_csv(\"results/name={}/dutch_domain_with_pii_agg_per_month.csv\".format(LOG))"
   ]
  },
  {
   "cell_type": "markdown",
   "metadata": {},
   "source": [
    "## Split root and four labels closest to the root"
   ]
  },
  {
   "cell_type": "code",
   "execution_count": null,
   "metadata": {},
   "outputs": [],
   "source": [
    "df_split = df_dutch_domains_first_and_last_names.withColumn(\n",
    "    'split', \n",
    "    psf.split(psf.col('domain'),'\\\\.')\n",
    ").select(\n",
    "    psf.element_at(psf.col('split'), -2).alias('root'),\n",
    "    psf.element_at(psf.col('split'), -3).alias('first_label'),\n",
    "    psf.element_at(psf.col('split'), -4).alias('second_label'),\n",
    "    psf.element_at(psf.col('split'), -5).alias('third_label'),\n",
    "    psf.element_at(psf.col('split'), -6).alias('fourth_label'),\n",
    "    psf.element_at(psf.col('split'), -7).alias('fifth_label'),\n",
    "    psf.element_at(psf.col('split'), -8).alias('sixth_label'),\n",
    "    psf.element_at(psf.col('split'), -9).alias('seventh_label')\n",
    ")\n",
    "print(\"The total number of domains with first and last name is: \",df_split.count())\n",
    "df_split.show(20,False)"
   ]
  },
  {
   "cell_type": "markdown",
   "metadata": {},
   "source": [
    "## Count the most-frequent occuring root label"
   ]
  },
  {
   "cell_type": "code",
   "execution_count": 42,
   "metadata": {},
   "outputs": [
    {
     "name": "stdout",
     "output_type": "stream",
     "text": [
      "+-----------------------+----------+\n",
      "|root                   |root_count|\n",
      "+-----------------------+----------+\n",
      "|vpweb                  |636       |\n",
      "|cas                    |401       |\n",
      "|amsterdam              |224       |\n",
      "|fleurglansbeek         |218       |\n",
      "|vriesencooutdoorliving |195       |\n",
      "|gcmediavormgeving      |128       |\n",
      "|s-hertogenbosch        |121       |\n",
      "|graaggedaan            |111       |\n",
      "|realworks              |100       |\n",
      "|probus-nederland       |99        |\n",
      "|vantlevenproducties    |97        |\n",
      "|marketheme             |96        |\n",
      "|kaartenmolen           |94        |\n",
      "|trimbos                |82        |\n",
      "|malmberg               |82        |\n",
      "|sponsoring-events      |76        |\n",
      "|staatsbosbeheer        |74        |\n",
      "|md-net                 |72        |\n",
      "|hoppenbrouwers-techniek|63        |\n",
      "|martinvanderwal        |61        |\n",
      "+-----------------------+----------+\n",
      "only showing top 20 rows\n",
      "\n"
     ]
    }
   ],
   "source": [
    "most_occurring_root = df_split.select(\n",
    "    psf.col(\"root\"),\n",
    "    psf.col(\"root\").alias(\"aliass\"),\n",
    ").groupby(\n",
    "    psf.col(\"root\")\n",
    ").agg(\n",
    "    psf.count(\"aliass\").alias(\"root_count\")\n",
    ").orderBy(psf.col(\"root_count\"), ascending=False)\n",
    "\n",
    "most_occurring_root.show(20, False)"
   ]
  },
  {
   "cell_type": "markdown",
   "metadata": {},
   "source": [
    "## Check if first or last name in root"
   ]
  },
  {
   "cell_type": "code",
   "execution_count": null,
   "metadata": {},
   "outputs": [],
   "source": [
    "name_string = first_names_string + \"|\" + last_names_string\n",
    "pii_in_root = df_split.filter(\n",
    "    psf.col(\"root\").rlike(name_string)\n",
    ")\n",
    "print(\"The total number of domains with first OR last name in root is: \",pii_in_root.count())\n",
    "pii_in_root.show(20, False)"
   ]
  },
  {
   "cell_type": "markdown",
   "metadata": {},
   "source": [
    "## Check if first or last name in root"
   ]
  },
  {
   "cell_type": "code",
   "execution_count": null,
   "metadata": {},
   "outputs": [],
   "source": [
    "first_and_last_name_in_root = df_split.withColumn('pii_in_root',\n",
    "    psf.when((psf.col(\"root\").rlike(first_names_string) & psf.col(\"root\").rlike(last_names_string)),1).otherwise(0)\n",
    ").withColumn('pii_in_first_label',\n",
    "    psf.when((psf.col(\"first_label\").rlike(first_names_string) & psf.col(\"first_label\").rlike(last_names_string)),1).otherwise(0)\n",
    ").withColumn('pii_in_second_label',\n",
    "    psf.when((psf.col(\"second_label\").rlike(first_names_string) & psf.col(\"second_label\").rlike(last_names_string)),1).otherwise(0)\n",
    ").withColumn('pii_in_third_label',\n",
    "    psf.when((psf.col(\"third_label\").rlike(first_names_string) & psf.col(\"third_label\").rlike(last_names_string)),1).otherwise(0)\n",
    ").withColumn('pii_in_fourth_label',\n",
    "    psf.when((psf.col(\"fourth_label\").rlike(first_names_string) & psf.col(\"fourth_label\").rlike(last_names_string)),1).otherwise(0)\n",
    ").withColumn('pii_in_fifth_label',\n",
    "    psf.when((psf.col(\"fifth_label\").rlike(first_names_string) & psf.col(\"fifth_label\").rlike(last_names_string)),1).otherwise(0)\n",
    ").withColumn('pii_in_sixth_label',\n",
    "    psf.when((psf.col(\"sixth_label\").rlike(first_names_string) & psf.col(\"sixth_label\").rlike(last_names_string)),1).otherwise(0)\n",
    ").withColumn('pii_in_seventh_label',\n",
    "    psf.when((psf.col(\"seventh_label\").rlike(first_names_string) & psf.col(\"seventh_label\").rlike(last_names_string)),1).otherwise(0)\n",
    ")\n",
    "print(\"The total number of domains with first AND last name in root is: \",first_and_last_name_in_root.count())\n",
    "first_and_last_name_in_root.show(20, False)\n"
   ]
  },
  {
   "cell_type": "markdown",
   "metadata": {},
   "source": [
    "## Do some computations on binary representation above"
   ]
  },
  {
   "cell_type": "code",
   "execution_count": 10,
   "metadata": {},
   "outputs": [
    {
     "name": "stdout",
     "output_type": "stream",
     "text": [
      "The total number of occurrences in the root is  174329\n",
      "The total number of occurrences in the first label is  5173\n",
      "The total number of occurrences in the second label is  541\n",
      "The total number of occurrences in the third label is  300\n",
      "The total number of occurrences in the fourth label is  12\n",
      "The total number of occurrences in the fifth label is  2\n",
      "The total number of occurrences in the sixth label is  0\n",
      "The total number of occurrences in the seventh label is  0\n"
     ]
    }
   ],
   "source": [
    "sums = first_and_last_name_in_root.groupBy().sum().collect()\n",
    "print(\"The total number of occurrences in the root is \",sums[0][0])\n",
    "print(\"The total number of occurrences in the first label is \",sums[0][1])\n",
    "print(\"The total number of occurrences in the second label is \",sums[0][2])\n",
    "print(\"The total number of occurrences in the third label is \",sums[0][3])\n",
    "print(\"The total number of occurrences in the fourth label is \",sums[0][4])\n",
    "print(\"The total number of occurrences in the fifth label is \",sums[0][5])\n",
    "print(\"The total number of occurrences in the sixth label is \",sums[0][6])\n",
    "print(\"The total number of occurrences in the seventh label is \",sums[0][7])"
   ]
  },
  {
   "cell_type": "markdown",
   "metadata": {},
   "source": [
    "## Rows with first and last name in root"
   ]
  },
  {
   "cell_type": "code",
   "execution_count": null,
   "metadata": {},
   "outputs": [],
   "source": [
    "data_in_root = first_and_last_name_in_root.select(\n",
    "    psf.col(\"root\"),\n",
    "    psf.col(\"pii_in_root\")\n",
    ").distinct().filter(\n",
    "    psf.col(\"pii_in_root\") == 1\n",
    ")\n",
    "print(data_in_root.count())\n",
    "data_in_root.show(20,False)"
   ]
  },
  {
   "cell_type": "markdown",
   "metadata": {},
   "source": [
    "## Rows with first and last name in first label"
   ]
  },
  {
   "cell_type": "code",
   "execution_count": null,
   "metadata": {},
   "outputs": [],
   "source": [
    "data_in_first_label = first_and_last_name_in_root.select(\n",
    "    psf.col(\"first_label\"),\n",
    "    psf.col(\"pii_in_first_label\")\n",
    ").distinct().filter(\n",
    "    psf.col(\"pii_in_first_label\") == 1\n",
    ")\n",
    "print(data_in_first_label.count())\n",
    "data_in_first_label.show(20,False)"
   ]
  },
  {
   "cell_type": "markdown",
   "metadata": {},
   "source": [
    "## Rows with first and last name in second label"
   ]
  },
  {
   "cell_type": "code",
   "execution_count": null,
   "metadata": {},
   "outputs": [],
   "source": [
    "data_in_second_label = first_and_last_name_in_root.select(\n",
    "    psf.col(\"second_label\"),\n",
    "    psf.col(\"pii_in_second_label\")\n",
    ").distinct().filter(\n",
    "    psf.col(\"pii_in_second_label\") == 1\n",
    ")\n",
    "print(data_in_second_label.count())\n",
    "data_in_second_label.show(20,False)"
   ]
  },
  {
   "cell_type": "markdown",
   "metadata": {},
   "source": [
    "## Rows with first and last name in third label"
   ]
  },
  {
   "cell_type": "code",
   "execution_count": null,
   "metadata": {},
   "outputs": [],
   "source": [
    "data_in_third_label = first_and_last_name_in_root.select(\n",
    "    psf.col(\"third_label\"),\n",
    "    psf.col(\"pii_in_third_label\")\n",
    ").distinct().filter(\n",
    "    psf.col(\"pii_in_third_label\") == 1\n",
    ")\n",
    "print(data_in_third_label.count())\n",
    "data_in_third_label.show(20,False)"
   ]
  },
  {
   "cell_type": "markdown",
   "metadata": {},
   "source": [
    "## Rows with first and last name in fourth label"
   ]
  },
  {
   "cell_type": "code",
   "execution_count": null,
   "metadata": {},
   "outputs": [],
   "source": [
    "data_in_fourth_label = first_and_last_name_in_root.select(\n",
    "    psf.col(\"fourth_label\"),\n",
    "    psf.col(\"pii_in_fourth_label\")\n",
    ").distinct().filter(\n",
    "    psf.col(\"pii_in_fourth_label\") == 1\n",
    ")\n",
    "print(data_in_fourth_label.count())\n",
    "data_in_fourth_label.show(20,False)"
   ]
  },
  {
   "cell_type": "markdown",
   "metadata": {},
   "source": [
    "## Rows with first and last name in fifth label"
   ]
  },
  {
   "cell_type": "code",
   "execution_count": null,
   "metadata": {},
   "outputs": [],
   "source": [
    "data_in_fifth_label = first_and_last_name_in_root.select(\n",
    "    psf.col(\"fifth_label\"),\n",
    "    psf.col(\"pii_in_fifth_label\")\n",
    ").distinct().filter(\n",
    "    psf.col(\"pii_in_fifth_label\") == 1\n",
    ")\n",
    "print(data_in_fifth_label.count())\n",
    "data_in_fifth_label.show(20,False)"
   ]
  },
  {
   "cell_type": "markdown",
   "metadata": {},
   "source": [
    "# Find the most-common used deepest labels in domain names"
   ]
  },
  {
   "cell_type": "code",
   "execution_count": 51,
   "metadata": {},
   "outputs": [
    {
     "name": "stdout",
     "output_type": "stream",
     "text": [
      "+-------------+------------+\n",
      "|deepest-label|domain_count|\n",
      "+-------------+------------+\n",
      "|www          |57565       |\n",
      "|*            |14855       |\n",
      "|mail         |9144        |\n",
      "|webmail      |6160        |\n",
      "|webdisk      |4633        |\n",
      "|cpanel       |4628        |\n",
      "|autodiscover |3256        |\n",
      "|cpcontacts   |2452        |\n",
      "|cpcalendars  |2452        |\n",
      "|ipv6         |2092        |\n",
      "|smtp         |700         |\n",
      "|ftp          |692         |\n",
      "|pop          |612         |\n",
      "|preview      |559         |\n",
      "|remote       |321         |\n",
      "|m            |303         |\n",
      "|test         |275         |\n",
      "|builder      |210         |\n",
      "|dev          |161         |\n",
      "|whm          |158         |\n",
      "|stack        |118         |\n",
      "|cloud        |106         |\n",
      "|webshop      |102         |\n",
      "|bestellen    |100         |\n",
      "|occasions    |99          |\n",
      "|blog         |98          |\n",
      "|staging      |93          |\n",
      "|tools        |88          |\n",
      "|new          |82          |\n",
      "|nas          |75          |\n",
      "|shop         |73          |\n",
      "|portal       |73          |\n",
      "|voorraad     |72          |\n",
      "|static       |66          |\n",
      "|nieuw        |66          |\n",
      "|api          |63          |\n",
      "|acc          |53          |\n",
      "|en           |52          |\n",
      "|vpn          |51          |\n",
      "|inschrijven  |50          |\n",
      "+-------------+------------+\n",
      "only showing top 40 rows\n",
      "\n"
     ]
    }
   ],
   "source": [
    "labels = df_dutch_domains_first_and_last_names.select(\n",
    "    \"domain\",\n",
    "    psf.regexp_extract(psf.col(\"domain\"), \"^([^.]+).+[.][^.]+$\",1).alias(\"deepest-label\")\n",
    ").groupby(\n",
    "    \"deepest-label\"\n",
    ").agg(\n",
    "    psf.count(\"domain\").alias(\"domain_count\")\n",
    ").orderBy(psf.col(\"domain_count\"), ascending=False)\n",
    "\n",
    "labels.show(40, False)"
   ]
  },
  {
   "cell_type": "code",
   "execution_count": 52,
   "metadata": {},
   "outputs": [],
   "source": [
    "# Save the deepest labels in a CSV file\n",
    "labels.toPandas().to_csv(\"results/name={}/common_deepest_labels.csv\".format(LOG))"
   ]
  },
  {
   "cell_type": "markdown",
   "metadata": {},
   "source": [
    "## Save all results"
   ]
  },
  {
   "cell_type": "code",
   "execution_count": 53,
   "metadata": {},
   "outputs": [],
   "source": [
    "# timestamp_format = datetime.now().strftime(\"%Y-%m-%d_%H-%M-%S\")\n",
    "df_dutch_domains_first_and_last_names.toPandas().to_csv(\"results/name={}/dutch_domain_with_pii_in_domain.csv\".format(LOG))\n",
    "most_occurring_root.toPandas().to_csv(\"results/name={}/dutch_domain_with_pii_in_domain.csv\".format(LOG))\n",
    "data_in_root.toPandas().to_csv(\"results/name={}/dutch_domain_with_pii_in_root.csv\".format(LOG))\n",
    "data_in_first_label.toPandas().to_csv(\"results/name={}/dutch_domain_with_pii_in_first_label.csv\".format(LOG))\n",
    "data_in_second_label.toPandas().to_csv(\"results/name={}/dutch_domain_with_pii_in_second_label.csv\".format(LOG))\n",
    "data_in_third_label.toPandas().to_csv(\"results/name={}/dutch_domain_with_pii_in_third_label.csv\".format(LOG))\n",
    "data_in_fourth_label.toPandas().to_csv(\"results/name={}/dutch_domain_with_pii_in_fourth_label.csv\".format(LOG))"
   ]
  },
  {
   "cell_type": "markdown",
   "metadata": {},
   "source": [
    "# Stop the SparkContext\n",
    "Note: don't run this block unless you actually want to stop your context"
   ]
  },
  {
   "cell_type": "code",
   "execution_count": 12,
   "metadata": {},
   "outputs": [
    {
     "name": "stdout",
     "output_type": "stream",
     "text": [
      "[2021-06-24 19:55:26] Stopping Spark context.\n"
     ]
    }
   ],
   "source": [
    "print(\"[{}] Stopping Spark context.\".format(datetime.now().replace(microsecond=0)))\n",
    "# Commented to prevent accidental sequential execution\n",
    "sc.stop()"
   ]
  },
  {
   "cell_type": "markdown",
   "metadata": {},
   "source": [
    "# Obsolete\n",
    "The code pieces below were used in the process, but became obsolete later in the process"
   ]
  },
  {
   "cell_type": "markdown",
   "metadata": {},
   "source": [
    "# Filter out common deepest labels"
   ]
  },
  {
   "cell_type": "markdown",
   "metadata": {},
   "source": [
    "The code below may seem illogical. Here is some explanation:\n",
    "- First, we split the DF of domains in two parts: one part includes all domains that start with a common used label. The other part includes domains that do not start with a common used label.\n",
    "- The part this includes domains with common used label is put through a regular expression that removes the deepest label and the first \".\" it occurs. For example, \"mail.joe-doe.com\" is replaced by \"joe-doe.com\".\n",
    "- Afterwards, both parts are combined into one single DF containing all domain names.\n",
    "- In the second code block, a distinct method is executed over the \"domain\" column (drop_duplicates()), resulting in a DF containing all unique domains.\n",
    "- In the third code block, this DF is written to a local CSV file.\n",
    "\n",
    "Note: feel free to uncomment the print statement to see how the domain names look at each state"
   ]
  },
  {
   "cell_type": "code",
   "execution_count": 23,
   "metadata": {},
   "outputs": [
    {
     "name": "stdout",
     "output_type": "stream",
     "text": [
      "Number of domains with common prefix before removal 1382171\n",
      "Number of domains without common prefix:  728717\n",
      "Number of domains with common prefix after removal 1382171\n",
      "Number of domains after combining 2110888\n"
     ]
    }
   ],
   "source": [
    "## Load the top-25 most-common used deepest labels\n",
    "common_used_deepest_labels = pd.read_csv(\"results/common_deepest_labels.csv\")['deepest-label'].head(25)\n",
    "\n",
    "## The two lines below replace ambiguous deepest labels to not exclude too many domains (for instance all domains that include \"m.\" like \"amsterdam.nl\")\n",
    "common_used_deepest_labels[12] = \"inschrijven\"\n",
    "\n",
    "## Create an rlike string for most commonly used labels\n",
    "label_string = '.|'.join(common_used_deepest_labels)+\".\"\n",
    "\n",
    "## Filter data to only have domains with commonly used deepest label and remove the deepest label from the domain string\n",
    "with_common_label = df_dutch_domains_first_and_last_names.filter(\n",
    "    psf.col(\"domain\").rlike(label_string).alias(\"domain\")\n",
    ")\n",
    "# print(\"Here are the first domains with common label\")\n",
    "# with_common_label.show(20, False)\n",
    "print(\"Number of domains with common label before removal\",with_common_label.count())\n",
    "\n",
    "## Create a new df with domains that do NOT start with a common label\n",
    "without_common_label = df_dutch_domains_first_and_last_names.subtract(with_common_label)\n",
    "# print(\"Here are the first domains with NO common label\")\n",
    "# without_common_label.show(20, False)\n",
    "print(\"Number of domains without common label: \",without_common_label.count())\n",
    "\n",
    "## Remove the common label from the domains that DO start with a common label\n",
    "with_common_label_removed_label = with_common_label.select(\n",
    "    psf.regexp_extract(psf.col(\"domain\"), \"^[^.]+.(.*)$\",1).alias(\"domain\"),\n",
    "    \"date\"\n",
    ")\n",
    "# print(\"Here are the first domains with removed common label\")\n",
    "# with_common_label_removed_label.show(20, False)\n",
    "print(\"Number of domains with common label after removal\",with_common_label_removed_label.count())\n",
    "\n",
    "## Combine the domains again\n",
    "filtered_df = with_common_label_removed_label.union(without_common_label)\n",
    "# print(\"Here are the first domains after joining\")\n",
    "# filtered_df.show(20, False)\n",
    "print(\"Number of domains after combining\",filtered_df.count())"
   ]
  },
  {
   "cell_type": "code",
   "execution_count": null,
   "metadata": {},
   "outputs": [],
   "source": [
    "## Distinct the domains to only include unique domains\n",
    "filtered_df_distinct = filtered_df.drop_duplicates(subset=['domain'])\n",
    "print(\"Number of domains before distinct: \", filtered_df.count())\n",
    "print(\"Number of domains after distinct: \", filtered_df_distinct.count())\n",
    "# print(\"This were the first domains before distinct\")\n",
    "# filtered_df.show(100, False)\n",
    "# print(\"This are the first domains after distinct\")\n",
    "# filtered_df_distinct.show(100, False)"
   ]
  },
  {
   "cell_type": "code",
   "execution_count": 25,
   "metadata": {},
   "outputs": [],
   "source": [
    "## Store the distinct domains\n",
    "timestamp_format = datetime.now().strftime(\"%Y-%m-%d_%H-%M-%S\")\n",
    "filtered_df_distinct.toPandas().to_csv(\"results/first_and_last_names/{}_{}m-records-first-and-last-names.csv\".format(timestamp_format, str(NR_RECORDS//1000000)))"
   ]
  },
  {
   "cell_type": "markdown",
   "metadata": {},
   "source": [
    "## Aggregate the total number of registered domains over time"
   ]
  },
  {
   "cell_type": "code",
   "execution_count": 5,
   "metadata": {},
   "outputs": [
    {
     "name": "stdout",
     "output_type": "stream",
     "text": [
      "The total number of rows is:  578720187\n"
     ]
    }
   ],
   "source": [
    "df_domains = ct_raw_df.select(\n",
    "    psf.explode('all_domains').alias(\"domain\"),\n",
    "    psf.col(\"leaf_cert.not_before\").alias(\"date\")\n",
    ").select(\n",
    "    psf.lower(psf.col(\"domain\")).alias(\"domain\"),\n",
    "    psf.from_unixtime(psf.col(\"date\"), \"yyyy-MM-dd hh:mm\").alias(\"date\")\n",
    ").groupby(\n",
    "    psf.col(\"domain\")\n",
    ").agg(\n",
    "    psf.min(psf.col(\"date\")).alias(\"date\")\n",
    ")\n",
    "# print(\"Print schema below:\")\n",
    "# filtered_df.printSchema()\n",
    "# print(\"Size of df below:\")\n",
    "# df_dutch_domains.show(10,False)\n",
    "print(\"The total number of rows is: \",df_domains.count())"
   ]
  },
  {
   "cell_type": "code",
   "execution_count": 6,
   "metadata": {},
   "outputs": [],
   "source": [
    "all_domains_agg_per_month = df_domains.withColumn(\"year\", psf.year(psf.col(\"date\"))).withColumn(\"month\", psf.month(psf.col(\"date\"))).select(\n",
    "    psf.col(\"year\"),\n",
    "    psf.col(\"month\"),\n",
    "    psf.col(\"domain\")\n",
    ").groupBy(\n",
    "    [psf.col(\"year\"),psf.col(\"month\")]\n",
    ").count().repartition(1).orderBy(psf.col(\"year\"),psf.col(\"month\"))\n",
    "# agg_per_month.show()\n",
    "all_domains_agg_per_month.toPandas().to_csv(\"results/name={}/all_domain_agg_per_month.csv\".format(LOG))"
   ]
  },
  {
   "cell_type": "code",
   "execution_count": null,
   "metadata": {},
   "outputs": [],
   "source": [
    "early_domains = df_dutch_domains_first_and_last_names.withColumn(\"year\", psf.year(psf.col(\"date\"))).select(\n",
    "    psf.col(\"domain\"),\n",
    "    psf.col(\"year\")\n",
    ").filter(\n",
    "    psf.col(\"year\")<2011\n",
    ")\n",
    "early_domains.show(100, False)"
   ]
  },
  {
   "cell_type": "code",
   "execution_count": null,
   "metadata": {},
   "outputs": [],
   "source": [
    "very_old_dutch_domain = ct_raw_df.select(\n",
    "    psf.explode('all_domains').alias(\"domain\"),\n",
    "    psf.col(\"leaf_cert.not_before\").alias(\"before_date\"),\n",
    "    psf.col(\"leaf_cert.not_after\").alias(\"after_date\"),\n",
    ").filter(\n",
    "    psf.col(\"domain\").contains('.nl')\n",
    ").select(\n",
    "    psf.lower(psf.col(\"domain\")).alias(\"domain\"),\n",
    "    psf.from_unixtime(psf.col(\"before_date\"), \"yyyy-MM-dd hh:mm\").alias(\"before_date\"),\n",
    "    psf.from_unixtime(psf.col(\"after_date\"), \"yyyy-MM-dd hh:mm\").alias(\"after_date\")\n",
    ").groupby(\n",
    "    psf.col(\"domain\")\n",
    ").agg(\n",
    "    psf.min(psf.col(\"before_date\")).alias(\"before_date\"),\n",
    "    psf.min(psf.col(\"after_date\")).alias(\"after_date\")\n",
    ").filter(psf.col(\"domain\").rlike(last_names_string)).filter(psf.col(\"domain\").rlike(first_names_string)).withColumn(\"before_year\", psf.year(psf.col(\"before_date\"))).withColumn(\"after_year\", psf.year(psf.col(\"after_date\"))).select(\n",
    "    psf.col(\"domain\"),\n",
    "    psf.col(\"before_year\"),\n",
    "    psf.col(\"after_year\")\n",
    ").filter(\n",
    "    psf.col(\"before_year\")<2008\n",
    ")\n",
    "very_old_dutch_domain.show(200, False)"
   ]
  },
  {
   "cell_type": "code",
   "execution_count": null,
   "metadata": {},
   "outputs": [],
   "source": [
    "SEARCH_STRING = \"cas.ms\"\n",
    "df_dutch_domains_first_and_last_names.filter(psf.col(\"domain\").rlike(SEARCH_STRING)).show(100,False)"
   ]
  },
  {
   "cell_type": "markdown",
   "metadata": {},
   "source": [
    "## Very old domains"
   ]
  },
  {
   "cell_type": "code",
   "execution_count": 10,
   "metadata": {},
   "outputs": [
    {
     "name": "stdout",
     "output_type": "stream",
     "text": [
      "+-------------------------------------------------------------+-----------+----------+\n",
      "|domain                                                       |before_year|after_year|\n",
      "+-------------------------------------------------------------+-----------+----------+\n",
      "|*.securenow.com                                              |1999       |2000      |\n",
      "|verisign class 1 public primary certification authority - g3 |1999       |2036      |\n",
      "|hostway.com                                                  |1999       |2000      |\n",
      "|globalsign primary class 2 ca                                |1999       |2009      |\n",
      "|support.website2go.com                                       |1999       |2000      |\n",
      "|netlock uzleti (class b) tanusitvanykiado                    |1999       |2019      |\n",
      "|*.securesites.com                                            |1997       |1998      |\n",
      "|eudranet cug ca                                              |1999       |2004      |\n",
      "|utn-userfirst-hardware                                       |1999       |2019      |\n",
      "|verisign class 3 public primary certification authority - g3 |1999       |2021      |\n",
      "|dst (nrf) rootca                                             |1998       |2008      |\n",
      "|microsoft windows hardware compatibility intermediate oem pca|1998       |2005      |\n",
      "|utn-userfirst-network applications                           |1999       |2019      |\n",
      "|gte cybertrust root                                          |1996       |2004      |\n",
      "|verisign class 2 personnel ca                                |1999       |2009      |\n",
      "|equifax secure e-business ca-2                               |1999       |2002      |\n",
      "|globalsign class 2 ca                                        |1999       |2004      |\n",
      "|www.kityoung.com                                             |1999       |2000      |\n",
      "|dst rootca x1                                                |1998       |2008      |\n",
      "|www2.superb.net                                              |1997       |1998      |\n",
      "|securesign rootca1                                           |1999       |2020      |\n",
      "|ttinet.com                                                   |1998       |1999      |\n",
      "|globalsign class 3 ca                                        |1999       |2004      |\n",
      "|equifax secure global ebusiness ca-1                         |1999       |2020      |\n",
      "|microsoft windows verification intermediate pca              |1999       |2005      |\n",
      "|utn - datacorp sgc                                           |1999       |2019      |\n",
      "|fp5 consortium top ca                                        |1999       |2004      |\n",
      "|kmd-ca server                                                |1998       |2018      |\n",
      "|class 2 primary ca                                           |1999       |2019      |\n",
      "|ford motor company - verisign onsite                         |1999       |2009      |\n",
      "|www.web-sight.co.uk                                          |1998       |1999      |\n",
      "|clients.dljdirect.com                                        |1998       |1999      |\n",
      "|class 3ts primary ca                                         |1999       |2019      |\n",
      "|thawte server ca                                             |1996       |2021      |\n",
      "|the university of texas at brownsville ca                    |1999       |2007      |\n",
      "|class 1 primary ca                                           |1999       |2020      |\n",
      "|xcert ez by dst                                              |1999       |2009      |\n",
      "|globalsign primary class 3 ca                                |1999       |2009      |\n",
      "|verisign class 2 ca - individual subscriber                  |1998       |2004      |\n",
      "|aba.ecom root ca                                             |1999       |2009      |\n",
      "|hitrust ca                                                   |1999       |2014      |\n",
      "|http://www.valicert.com/                                     |1999       |2019      |\n",
      "|www.adar.net                                                 |1998       |1999      |\n",
      "|*.techsecure.com                                             |1999       |2000      |\n",
      "|globalsign secure server ca                                  |1999       |2004      |\n",
      "|verisign class 2 public primary certification authority - g3 |1999       |2036      |\n",
      "|addtrust external ca root                                    |1999       |2019      |\n",
      "|equifax secure e-business ca                                 |1999       |2001      |\n",
      "|globalsign class 1 ca                                        |1998       |2007      |\n",
      "|verisign class 3 onsite operational administrator ca         |1999       |2009      |\n",
      "|utn-userfirst-client authentication and email                |1999       |2019      |\n",
      "|dst rootca x2                                                |1998       |2008      |\n",
      "|levelcim tanusito dpca1                                      |1999       |2002      |\n",
      "|verisign class 2 employee ca                                 |1999       |2009      |\n",
      "|btat2.www.wingspan.mybills.com                               |1999       |2000      |\n",
      "|microsoft windows hardware compatibility intermediate oem ca |1998       |2002      |\n",
      "|thawte server ca dsa root                                    |1996       |2021      |\n",
      "|entrust.net certification authority (2048)                   |1999       |2019      |\n",
      "|microsoft time stamping pca                                  |1999       |2020      |\n",
      "|globalsign primary enterprise administration ca              |1999       |2009      |\n",
      "|thawte premium server ca                                     |1996       |2021      |\n",
      "|www.gilbertlogan.com                                         |1999       |2000      |\n",
      "|verisign class 3 ca - affiliate control center administrator |1998       |2013      |\n",
      "|www.semad.be                                                 |1999       |2000      |\n",
      "|thawte personal basic ca                                     |1996       |2021      |\n",
      "|thawte timestamping ca                                       |1997       |2021      |\n",
      "|www.ifast.org                                                |1999       |2000      |\n",
      "|thawte personal freemail ca                                  |1996       |2021      |\n",
      "|personal freemail rsa 1999.9.16                              |1999       |2001      |\n",
      "|www.rams.com.au                                              |1999       |2000      |\n",
      "|www.semman.com                                               |1998       |1999      |\n",
      "|thawte server basic rsa issuer 1998.9.16                     |1998       |2000      |\n",
      "|securesign rootca2                                           |1999       |2020      |\n",
      "|www.digitalonramp.com                                        |1999       |2000      |\n",
      "|certification authority of wosign                            |1999       |2016      |\n",
      "|equifax secure ebusiness ca-1                                |1999       |2020      |\n",
      "|ibimvs                                                       |1999       |2000      |\n",
      "|personalserv.infolinksa.com                                  |1999       |2000      |\n",
      "|gte cybertrust global root                                   |1998       |2014      |\n",
      "|netlock kozjegyzoi (class a) tanusitvanykiado                |1999       |2019      |\n",
      "|globalsign object publishing ca                              |1999       |2004      |\n",
      "|globalsign primary class 1 ca                                |1998       |2009      |\n",
      "|microsoft root authority                                     |1997       |2020      |\n",
      "|www.dwavetech.com                                            |1999       |2000      |\n",
      "|www.highsouth.com                                            |1999       |2000      |\n",
      "|*.dsvr.co.uk                                                 |1999       |2000      |\n",
      "|www.icom.com                                                 |1998       |1999      |\n",
      "|www.lightseed.com                                            |1999       |2001      |\n",
      "|verisign class 3 secure server operational administrator ca  |1999       |2009      |\n",
      "|www.interscheme.com                                          |1999       |2000      |\n",
      "|class 3p primary ca                                          |1999       |2019      |\n",
      "|microsoft windows hardware compatibility                     |1997       |2002      |\n",
      "|dst (ups) rootca                                             |1998       |2008      |\n",
      "|the university of texas at dallas ca                         |1999       |2012      |\n",
      "|www.hardwoodfurniture.com                                    |1999       |2000      |\n",
      "|baltimore ez by dst                                          |1999       |2009      |\n",
      "|netlock expressz (class c) tanusitvanykiado                  |1999       |2019      |\n",
      "|securesign rootca3                                           |1999       |2020      |\n",
      "|www.bbless.org                                               |1999       |2000      |\n",
      "|globalsign root ca                                           |1998       |2014      |\n",
      "|opal.evocative.com                                           |1998       |1999      |\n",
      "|appl009.ptm.lsu.edu                                          |1998       |1999      |\n",
      "|servicios de certificacion - a.n.c.                          |1999       |2009      |\n",
      "|globalsign partners ca                                       |1999       |2009      |\n",
      "|ca 沃通根证书                                                |1999       |2016      |\n",
      "|*.weblc.com                                                  |1999       |2000      |\n",
      "|roccade ca                                                   |1999       |2004      |\n",
      "|bt trustwise ca                                              |1999       |2004      |\n",
      "|entrust.net secure server certification authority            |1999       |2003      |\n",
      "|globalsign primary secure server ca                          |1999       |2009      |\n",
      "|thawte personal premium ca                                   |1996       |2021      |\n",
      "|www.axa-direct.co.jp                                         |1999       |2001      |\n",
      "|ryan tracey                                                  |1999       |2000      |\n",
      "|bt trustwise class 2 onsite ca - individual subscriber       |1999       |2004      |\n",
      "|globalsign primary object publishing ca                      |1999       |2009      |\n",
      "|roccade class 2 onsite ca - individual subscriber            |1999       |2004      |\n",
      "|www.leshem.com                                               |1999       |2000      |\n",
      "|secure.dmo.com                                               |1999       |2000      |\n",
      "|the university of texas health science center at houston ca  |1999       |2010      |\n",
      "|www.heybuddy.com                                             |1998       |1999      |\n",
      "|verisign class 4 public primary certification authority - g3 |1999       |2036      |\n",
      "|nec group certification authority smime                      |1999       |2009      |\n",
      "|secure.safe-order.net                                        |1998       |1999      |\n",
      "|deutsche telekom root ca 2                                   |1999       |2019      |\n",
      "|www.eplanetsolutions.com                                     |1999       |2000      |\n",
      "|certisur ca                                                  |1999       |2014      |\n",
      "|ips servidores                                               |1998       |2009      |\n",
      "|www.hkis.com                                                 |1999       |2000      |\n",
      "|class 3 primary ca                                           |1999       |2019      |\n",
      "|the university of texas at austin ca                         |1999       |2010      |\n",
      "|globalsign enterprise administration ca                      |1999       |2007      |\n",
      "+-------------------------------------------------------------+-----------+----------+\n",
      "\n"
     ]
    }
   ],
   "source": [
    "very_old_domain = ct_raw_df.select(\n",
    "    psf.explode('all_domains').alias(\"domain\"),\n",
    "    psf.col(\"leaf_cert.not_before\").alias(\"before_date\"),\n",
    "    psf.col(\"leaf_cert.not_after\").alias(\"after_date\"),\n",
    ").select(\n",
    "    psf.lower(psf.col(\"domain\")).alias(\"domain\"),\n",
    "    psf.from_unixtime(psf.col(\"before_date\"), \"yyyy-MM-dd hh:mm\").alias(\"before_date\"),\n",
    "    psf.from_unixtime(psf.col(\"after_date\"), \"yyyy-MM-dd hh:mm\").alias(\"after_date\")\n",
    ").groupby(\n",
    "    psf.col(\"domain\")\n",
    ").agg(\n",
    "    psf.min(psf.col(\"before_date\")).alias(\"before_date\"),\n",
    "    psf.min(psf.col(\"after_date\")).alias(\"after_date\")\n",
    ").withColumn(\"before_year\", psf.year(psf.col(\"before_date\"))).withColumn(\"after_year\", psf.year(psf.col(\"after_date\"))).select(\n",
    "    psf.col(\"domain\"),\n",
    "    psf.col(\"before_year\"),\n",
    "    psf.col(\"after_year\")\n",
    ").filter(\n",
    "    psf.col(\"before_year\")<2000\n",
    ")\n",
    "very_old_domain.show(200, False)"
   ]
  },
  {
   "cell_type": "code",
   "execution_count": 16,
   "metadata": {},
   "outputs": [
    {
     "data": {
      "text/html": [
       "<div>\n",
       "<style scoped>\n",
       "    .dataframe tbody tr th:only-of-type {\n",
       "        vertical-align: middle;\n",
       "    }\n",
       "\n",
       "    .dataframe tbody tr th {\n",
       "        vertical-align: top;\n",
       "    }\n",
       "\n",
       "    .dataframe thead th {\n",
       "        text-align: right;\n",
       "    }\n",
       "</style>\n",
       "<table border=\"1\" class=\"dataframe\">\n",
       "  <thead>\n",
       "    <tr style=\"text-align: right;\">\n",
       "      <th></th>\n",
       "      <th>domain</th>\n",
       "      <th>before_year</th>\n",
       "      <th>after_year</th>\n",
       "    </tr>\n",
       "  </thead>\n",
       "  <tbody>\n",
       "    <tr>\n",
       "      <th>60</th>\n",
       "      <td>thawte premium server ca</td>\n",
       "      <td>1996</td>\n",
       "      <td>2021</td>\n",
       "    </tr>\n",
       "    <tr>\n",
       "      <th>64</th>\n",
       "      <td>thawte personal basic ca</td>\n",
       "      <td>1996</td>\n",
       "      <td>2021</td>\n",
       "    </tr>\n",
       "    <tr>\n",
       "      <th>56</th>\n",
       "      <td>thawte server ca dsa root</td>\n",
       "      <td>1996</td>\n",
       "      <td>2021</td>\n",
       "    </tr>\n",
       "    <tr>\n",
       "      <th>33</th>\n",
       "      <td>thawte server ca</td>\n",
       "      <td>1996</td>\n",
       "      <td>2021</td>\n",
       "    </tr>\n",
       "    <tr>\n",
       "      <th>13</th>\n",
       "      <td>gte cybertrust root</td>\n",
       "      <td>1996</td>\n",
       "      <td>2004</td>\n",
       "    </tr>\n",
       "    <tr>\n",
       "      <th>...</th>\n",
       "      <td>...</td>\n",
       "      <td>...</td>\n",
       "      <td>...</td>\n",
       "    </tr>\n",
       "    <tr>\n",
       "      <th>43</th>\n",
       "      <td>*.techsecure.com</td>\n",
       "      <td>1999</td>\n",
       "      <td>2000</td>\n",
       "    </tr>\n",
       "    <tr>\n",
       "      <th>41</th>\n",
       "      <td>http://www.valicert.com/</td>\n",
       "      <td>1999</td>\n",
       "      <td>2019</td>\n",
       "    </tr>\n",
       "    <tr>\n",
       "      <th>40</th>\n",
       "      <td>hitrust ca</td>\n",
       "      <td>1999</td>\n",
       "      <td>2014</td>\n",
       "    </tr>\n",
       "    <tr>\n",
       "      <th>54</th>\n",
       "      <td>btat2.www.wingspan.mybills.com</td>\n",
       "      <td>1999</td>\n",
       "      <td>2000</td>\n",
       "    </tr>\n",
       "    <tr>\n",
       "      <th>130</th>\n",
       "      <td>globalsign enterprise administration ca</td>\n",
       "      <td>1999</td>\n",
       "      <td>2007</td>\n",
       "    </tr>\n",
       "  </tbody>\n",
       "</table>\n",
       "<p>131 rows × 3 columns</p>\n",
       "</div>"
      ],
      "text/plain": [
       "                                      domain  before_year  after_year\n",
       "60                  thawte premium server ca         1996        2021\n",
       "64                  thawte personal basic ca         1996        2021\n",
       "56                 thawte server ca dsa root         1996        2021\n",
       "33                          thawte server ca         1996        2021\n",
       "13                       gte cybertrust root         1996        2004\n",
       "..                                       ...          ...         ...\n",
       "43                          *.techsecure.com         1999        2000\n",
       "41                  http://www.valicert.com/         1999        2019\n",
       "40                                hitrust ca         1999        2014\n",
       "54            btat2.www.wingspan.mybills.com         1999        2000\n",
       "130  globalsign enterprise administration ca         1999        2007\n",
       "\n",
       "[131 rows x 3 columns]"
      ]
     },
     "execution_count": 16,
     "metadata": {},
     "output_type": "execute_result"
    }
   ],
   "source": [
    "vod_pandas = very_old_domain.toPandas()\n",
    "vod_pandas_sort = vod_pandas.sort_values(['before_year'])\n",
    "\n",
    "vod_pandas_sort"
   ]
  },
  {
   "cell_type": "code",
   "execution_count": 17,
   "metadata": {},
   "outputs": [],
   "source": [
    "vod_pandas_sort.to_csv(\"results/name={}/old_domains.csv\".format(LOG))"
   ]
  }
 ],
 "metadata": {
  "kernelspec": {
   "display_name": "Python 3",
   "language": "python",
   "name": "python3"
  },
  "language_info": {
   "codemirror_mode": {
    "name": "ipython",
    "version": 3
   },
   "file_extension": ".py",
   "mimetype": "text/x-python",
   "name": "python",
   "nbconvert_exporter": "python",
   "pygments_lexer": "ipython3",
   "version": "3.7.6"
  }
 },
 "nbformat": 4,
 "nbformat_minor": 4
}
